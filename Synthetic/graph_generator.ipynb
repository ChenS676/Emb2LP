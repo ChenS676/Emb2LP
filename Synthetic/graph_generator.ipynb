{
 "cells": [
  {
   "cell_type": "code",
   "execution_count": 1,
   "metadata": {},
   "outputs": [
    {
     "name": "stderr",
     "output_type": "stream",
     "text": [
      "/home/aifb/cc7738/anaconda3/envs/ss/lib/python3.9/site-packages/tqdm/auto.py:21: TqdmWarning: IProgress not found. Please update jupyter and ipywidgets. See https://ipywidgets.readthedocs.io/en/stable/user_install.html\n",
      "  from .autonotebook import tqdm as notebook_tqdm\n"
     ]
    }
   ],
   "source": [
    "%load_ext autoreload\n",
    "%autoreload 2\n",
    "import os\n",
    "import sys\n",
    "sys.path.insert(0, os.path.abspath(os.path.join( os.getcwd(), '..')))\n",
    "\n",
    "import numpy as np\n",
    "import networkx as nx\n",
    "import matplotlib.pyplot as plt\n",
    "import torch\n",
    "from torch_geometric.utils import from_networkx\n",
    "import numpy as np\n",
    "from matplotlib import cm\n",
    "import torch.nn as nn\n",
    "from regular_tiling import gen_pyg_from_nx, plot_graph, plot_degree_histogram"
   ]
  },
  {
   "cell_type": "code",
   "execution_count": 2,
   "metadata": {},
   "outputs": [
    {
     "ename": "NameError",
     "evalue": "name 'plt' is not defined",
     "output_type": "error",
     "traceback": [
      "\u001b[0;31m---------------------------------------------------------------------------\u001b[0m",
      "\u001b[0;31mNameError\u001b[0m                                 Traceback (most recent call last)",
      "Cell \u001b[0;32mIn[2], line 7\u001b[0m\n\u001b[1;32m      4\u001b[0m \u001b[38;5;28;01mfor\u001b[39;00m graph_type \u001b[38;5;129;01min\u001b[39;00m [\u001b[38;5;124m'\u001b[39m\u001b[38;5;124mgrid\u001b[39m\u001b[38;5;124m'\u001b[39m, \u001b[38;5;124m'\u001b[39m\u001b[38;5;124mtriangle\u001b[39m\u001b[38;5;124m'\u001b[39m, \u001b[38;5;124m'\u001b[39m\u001b[38;5;124mhexagonal\u001b[39m\u001b[38;5;124m'\u001b[39m, \u001b[38;5;124m'\u001b[39m\u001b[38;5;124mkagome\u001b[39m\u001b[38;5;124m'\u001b[39m]:\n\u001b[1;32m      5\u001b[0m     data, G, pos \u001b[38;5;241m=\u001b[39m gen_pyg_from_nx(m, n, \u001b[38;5;241m32\u001b[39m, graph_type)\n\u001b[0;32m----> 7\u001b[0m     plt \u001b[38;5;241m=\u001b[39m \u001b[43mplot_graph\u001b[49m\u001b[43m(\u001b[49m\u001b[43mG\u001b[49m\u001b[43m,\u001b[49m\u001b[43m \u001b[49m\u001b[43mpos\u001b[49m\u001b[43m,\u001b[49m\u001b[43m \u001b[49m\u001b[43mtitle\u001b[49m\u001b[38;5;241;43m=\u001b[39;49m\u001b[38;5;124;43m\"\u001b[39;49m\u001b[38;5;124;43mGrid Graph\u001b[39;49m\u001b[38;5;124;43m\"\u001b[39;49m\u001b[43m)\u001b[49m\n\u001b[1;32m      8\u001b[0m     plt\u001b[38;5;241m.\u001b[39mshow()\n\u001b[1;32m      9\u001b[0m     \u001b[38;5;66;03m# plt.savefig('grid_graph.png')\u001b[39;00m\n",
      "File \u001b[0;32m/hkfs/work/workspace_haic/scratch/cc7738-TAGBench/Emb2LP/Synthetic/regular_tiling.py:14\u001b[0m, in \u001b[0;36mplot_graph\u001b[0;34m(G, pos, title, node_size, node_color, with_labels)\u001b[0m\n\u001b[1;32m     13\u001b[0m \u001b[38;5;28;01mdef\u001b[39;00m \u001b[38;5;21mplot_graph\u001b[39m(G, pos\u001b[38;5;241m=\u001b[39m\u001b[38;5;28;01mNone\u001b[39;00m, title\u001b[38;5;241m=\u001b[39m\u001b[38;5;124m\"\u001b[39m\u001b[38;5;124mGraph\u001b[39m\u001b[38;5;124m\"\u001b[39m, node_size\u001b[38;5;241m=\u001b[39m\u001b[38;5;241m300\u001b[39m, node_color\u001b[38;5;241m=\u001b[39m\u001b[38;5;124m'\u001b[39m\u001b[38;5;124mskyblue\u001b[39m\u001b[38;5;124m'\u001b[39m, with_labels\u001b[38;5;241m=\u001b[39m\u001b[38;5;28;01mTrue\u001b[39;00m):\n\u001b[0;32m---> 14\u001b[0m     \u001b[43mplt\u001b[49m\u001b[38;5;241m.\u001b[39mfigure(figsize\u001b[38;5;241m=\u001b[39m(\u001b[38;5;241m10\u001b[39m, \u001b[38;5;241m8\u001b[39m))\n\u001b[1;32m     15\u001b[0m     nx\u001b[38;5;241m.\u001b[39mdraw(G, pos, with_labels\u001b[38;5;241m=\u001b[39mwith_labels, node_size\u001b[38;5;241m=\u001b[39mnode_size, node_color\u001b[38;5;241m=\u001b[39mnode_color, edge_color\u001b[38;5;241m=\u001b[39m\u001b[38;5;124m'\u001b[39m\u001b[38;5;124mgray\u001b[39m\u001b[38;5;124m'\u001b[39m, font_size\u001b[38;5;241m=\u001b[39m\u001b[38;5;241m10\u001b[39m)\n\u001b[1;32m     16\u001b[0m     plt\u001b[38;5;241m.\u001b[39mtitle(title)\n",
      "\u001b[0;31mNameError\u001b[0m: name 'plt' is not defined"
     ]
    }
   ],
   "source": [
    "\n",
    "# Create a grid graph\n",
    "m, n = 10, 10\n",
    "\n",
    "for graph_type in ['grid', 'triangle', 'hexagonal', 'kagome']:\n",
    "    data, G, pos = gen_pyg_from_nx(m, n, 32, graph_type)\n",
    "    \n",
    "    plt = plot_graph(G, pos, title=\"Grid Graph\")\n",
    "    plt.show()\n",
    "    # plt.savefig('grid_graph.png')\n",
    "    plt.close()\n",
    "    plt = plot_degree_histogram(G)\n",
    "    plt.show()\n",
    "    # plt.savefig('grid_graph_degree_hist.png')\n",
    "    plt.close()\n",
    "\n",
    "\n",
    "    print(data.x)\n",
    "    print(data.edge_index)"
   ]
  }
 ],
 "metadata": {
  "kernelspec": {
   "display_name": "TAG-LP",
   "language": "python",
   "name": "python3"
  },
  "language_info": {
   "codemirror_mode": {
    "name": "ipython",
    "version": 3
   },
   "file_extension": ".py",
   "mimetype": "text/x-python",
   "name": "python",
   "nbconvert_exporter": "python",
   "pygments_lexer": "ipython3",
   "version": "3.9.19"
  }
 },
 "nbformat": 4,
 "nbformat_minor": 2
}
